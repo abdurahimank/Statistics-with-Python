{
 "cells": [
  {
   "cell_type": "code",
   "execution_count": 2,
   "id": "74427fbc-8eb6-406a-8d2a-ab1288334e58",
   "metadata": {},
   "outputs": [
    {
     "name": "stderr",
     "output_type": "stream",
     "text": [
      "C:\\Users\\abdur\\anaconda3\\lib\\site-packages\\scipy\\__init__.py:146: UserWarning: A NumPy version >=1.16.5 and <1.23.0 is required for this version of SciPy (detected version 1.26.2\n",
      "  warnings.warn(f\"A NumPy version >={np_minversion} and <{np_maxversion}\"\n"
     ]
    },
    {
     "name": "stdout",
     "output_type": "stream",
     "text": [
      "Mean\n",
      "89.42857142857143\n",
      "Median\n",
      "95.0\n",
      "Mode\n",
      "95\n",
      "Standard Deviation\n",
      "8.566665343179972\n",
      "Variance\n",
      "73.38775510204083\n",
      "range\n",
      "7.0\n"
     ]
    },
    {
     "name": "stderr",
     "output_type": "stream",
     "text": [
      "C:\\Users\\abdur\\AppData\\Local\\Temp\\ipykernel_15988\\4062686995.py:17: DeprecationWarning: the `interpolation=` argument to percentile was renamed to `method=`, which has additional options.\n",
      "Users of the modes 'nearest', 'lower', 'higher', or 'midpoint' are encouraged to review the method they used. (Deprecated NumPy 1.22)\n",
      "  print(stats.iqr(values))\n"
     ]
    }
   ],
   "source": [
    "from scipy import stats \n",
    "import numpy as np \n",
    "import statistics \n",
    "data ={\"A\": 90,\"B\": 86,\"C\":70,\"D\":95,\"E\":95,\"F\":95,\"G\":95} \n",
    "values = list(data.values()) \n",
    "print(\"Mean\") \n",
    "print(np.mean(values)) \n",
    "print(\"Median\") \n",
    "print(np.median(values)) \n",
    "print(\"Mode\") \n",
    "print(statistics.mode(values)) \n",
    "print(\"Standard Deviation\") \n",
    "print(np.std(values)) \n",
    "print(\"Variance\") \n",
    "print(np.var(values)) \n",
    "print(\"range\") \n",
    "print(stats.iqr(values))"
   ]
  },
  {
   "cell_type": "code",
   "execution_count": null,
   "id": "dff63d0f-61ab-4081-88e1-a97f65c6c80e",
   "metadata": {},
   "outputs": [],
   "source": []
  },
  {
   "cell_type": "code",
   "execution_count": null,
   "id": "7f2d8422-50cd-4130-a960-908bf8e41e3d",
   "metadata": {},
   "outputs": [],
   "source": []
  },
  {
   "cell_type": "code",
   "execution_count": null,
   "id": "38698abe-cb7c-4cb2-9ee9-c53d6930a7bf",
   "metadata": {},
   "outputs": [],
   "source": []
  },
  {
   "cell_type": "code",
   "execution_count": null,
   "id": "1164d3a9-c77b-4742-a9d4-da582502ddbb",
   "metadata": {},
   "outputs": [],
   "source": []
  },
  {
   "cell_type": "code",
   "execution_count": null,
   "id": "2686e3df-426f-4c84-9cd8-4b2ec567e030",
   "metadata": {},
   "outputs": [],
   "source": []
  }
 ],
 "metadata": {
  "kernelspec": {
   "display_name": "Python 3 (ipykernel)",
   "language": "python",
   "name": "python3"
  },
  "language_info": {
   "codemirror_mode": {
    "name": "ipython",
    "version": 3
   },
   "file_extension": ".py",
   "mimetype": "text/x-python",
   "name": "python",
   "nbconvert_exporter": "python",
   "pygments_lexer": "ipython3",
   "version": "3.9.12"
  }
 },
 "nbformat": 4,
 "nbformat_minor": 5
}
