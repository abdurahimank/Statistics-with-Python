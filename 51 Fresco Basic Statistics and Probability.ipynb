{
 "cells": [
  {
   "cell_type": "markdown",
   "id": "fbe6cbeb-2c3b-4210-be5f-d5d3afbf1fe0",
   "metadata": {},
   "source": [
    "# Handson"
   ]
  },
  {
   "cell_type": "markdown",
   "id": "804b9aa8-4b92-4226-a17d-2102e17a9394",
   "metadata": {},
   "source": [
    "## Probability and Statistics -4"
   ]
  },
  {
   "cell_type": "code",
   "execution_count": 6,
   "id": "deb3f305-ac56-43f3-8c9f-85be8a043967",
   "metadata": {},
   "outputs": [
    {
     "name": "stdout",
     "output_type": "stream",
     "text": [
      "Return Value:\n",
      "[0.0256 0.1536 0.3456 0.3456 0.1296]\n",
      "0.97\n"
     ]
    }
   ],
   "source": [
    "from scipy.stats import binom\n",
    "# setting the values\n",
    "# of n and p\n",
    "n = 4\n",
    "p = 0.6\n",
    "#defining list of r values\n",
    "r= list(range(n + 1))\n",
    "#calling the binom.pmf function and printing its return value\n",
    "return_val=binom.pmf(r, n, p)\n",
    "print('Return Value:')\n",
    "print(return_val)\n",
    "print(round(1 - return_val[0], 2))"
   ]
  },
  {
   "cell_type": "code",
   "execution_count": null,
   "id": "282fd2d6-1f3a-4cc6-bca3-b88022d1fd93",
   "metadata": {},
   "outputs": [],
   "source": []
  },
  {
   "cell_type": "markdown",
   "id": "22bf53ef-e83f-4280-b412-4e948a485118",
   "metadata": {},
   "source": [
    "## Probability and Statistics -5"
   ]
  },
  {
   "cell_type": "code",
   "execution_count": null,
   "id": "8188b53d-2862-41af-9b45-5f7ea5333016",
   "metadata": {},
   "outputs": [],
   "source": []
  },
  {
   "cell_type": "code",
   "execution_count": null,
   "id": "2c46b7bb-e4f4-456e-9127-de9d867b0e9b",
   "metadata": {},
   "outputs": [],
   "source": []
  },
  {
   "cell_type": "code",
   "execution_count": null,
   "id": "65e9b6d3-6dfe-490d-83bb-8d21157fae69",
   "metadata": {},
   "outputs": [],
   "source": []
  },
  {
   "cell_type": "code",
   "execution_count": null,
   "id": "124e5f74-0588-44ab-b88a-0a5a772d0c3e",
   "metadata": {},
   "outputs": [],
   "source": []
  },
  {
   "cell_type": "code",
   "execution_count": null,
   "id": "64ef1fa8-2379-45e6-9ef7-ec53631d6ba4",
   "metadata": {},
   "outputs": [],
   "source": []
  },
  {
   "cell_type": "markdown",
   "id": "6137fa02-1781-4487-9f4e-12f089040ab8",
   "metadata": {},
   "source": [
    "# Quiz"
   ]
  },
  {
   "cell_type": "code",
   "execution_count": null,
   "id": "ee0b669b-32ae-4994-9cdb-7a5ad533002d",
   "metadata": {},
   "outputs": [],
   "source": []
  }
 ],
 "metadata": {
  "kernelspec": {
   "display_name": "Python 3 (ipykernel)",
   "language": "python",
   "name": "python3"
  },
  "language_info": {
   "codemirror_mode": {
    "name": "ipython",
    "version": 3
   },
   "file_extension": ".py",
   "mimetype": "text/x-python",
   "name": "python",
   "nbconvert_exporter": "python",
   "pygments_lexer": "ipython3",
   "version": "3.9.12"
  }
 },
 "nbformat": 4,
 "nbformat_minor": 5
}
