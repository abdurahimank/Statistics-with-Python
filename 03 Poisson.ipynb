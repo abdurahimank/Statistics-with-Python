{
 "cells": [
  {
   "cell_type": "markdown",
   "id": "dfad8ad4-84b3-48bb-b876-7972c096cf82",
   "metadata": {},
   "source": [
    "the average number of bouquets sold by flower shop is 10 per day. what is the probability that exactly 15 bouquets will be sold tomorrow ? use poisson distribution - write a python code for above using scipy library"
   ]
  },
  {
   "cell_type": "code",
   "execution_count": 1,
   "id": "3f73ca73-0739-42b8-bbbc-e24297a50787",
   "metadata": {},
   "outputs": [
    {
     "name": "stderr",
     "output_type": "stream",
     "text": [
      "C:\\Users\\abdur\\anaconda3\\lib\\site-packages\\scipy\\__init__.py:146: UserWarning: A NumPy version >=1.16.5 and <1.23.0 is required for this version of SciPy (detected version 1.26.2\n",
      "  warnings.warn(f\"A NumPy version >={np_minversion} and <{np_maxversion}\"\n"
     ]
    },
    {
     "name": "stdout",
     "output_type": "stream",
     "text": [
      "The probability of selling exactly 15 bouquets tomorrow is: 0.0347\n"
     ]
    }
   ],
   "source": [
    "from scipy.stats import poisson\n",
    "\n",
    "# Average number of bouquets sold per day\n",
    "lambda_value = 10\n",
    "\n",
    "# Number of bouquets you want to find the probability for\n",
    "k = 15\n",
    "\n",
    "# Calculate the Poisson probability using the pmf (probability mass function) method\n",
    "probability = poisson.pmf(k, lambda_value)\n",
    "\n",
    "print(f\"The probability of selling exactly {k} bouquets tomorrow is: {probability:.4f}\")"
   ]
  },
  {
   "cell_type": "code",
   "execution_count": null,
   "id": "4cba8cb0-8433-4268-9f6e-979abeb0e230",
   "metadata": {},
   "outputs": [],
   "source": []
  }
 ],
 "metadata": {
  "kernelspec": {
   "display_name": "Python 3 (ipykernel)",
   "language": "python",
   "name": "python3"
  },
  "language_info": {
   "codemirror_mode": {
    "name": "ipython",
    "version": 3
   },
   "file_extension": ".py",
   "mimetype": "text/x-python",
   "name": "python",
   "nbconvert_exporter": "python",
   "pygments_lexer": "ipython3",
   "version": "3.9.12"
  }
 },
 "nbformat": 4,
 "nbformat_minor": 5
}
