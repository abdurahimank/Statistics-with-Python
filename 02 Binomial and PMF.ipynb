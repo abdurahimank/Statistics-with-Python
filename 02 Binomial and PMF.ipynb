{
 "cells": [
  {
   "cell_type": "code",
   "execution_count": 2,
   "id": "14901dc3-d312-4f67-acbd-47395db4373e",
   "metadata": {},
   "outputs": [
    {
     "name": "stdout",
     "output_type": "stream",
     "text": [
      "Return Value:\n",
      "[0.0256 0.1536 0.3456 0.3456 0.1296]\n",
      "0.97\n"
     ]
    }
   ],
   "source": [
    "from scipy.stats import binom\n",
    "# setting the values\n",
    "# of n and p\n",
    "n = 4\n",
    "p = 0.6  # success rate\n",
    "#defining list of r values\n",
    "r= list(range(n + 1))\n",
    "#calling the binom.pmf function and printing its return value\n",
    "return_val=binom.pmf(r, n, p)\n",
    "print('Return Value:')\n",
    "print(return_val)\n",
    "print(round(1 - return_val[0], 2))"
   ]
  },
  {
   "cell_type": "code",
   "execution_count": null,
   "id": "2971c3c1-9447-4354-b3bc-72d52f5c4f91",
   "metadata": {},
   "outputs": [],
   "source": []
  }
 ],
 "metadata": {
  "kernelspec": {
   "display_name": "Python 3 (ipykernel)",
   "language": "python",
   "name": "python3"
  },
  "language_info": {
   "codemirror_mode": {
    "name": "ipython",
    "version": 3
   },
   "file_extension": ".py",
   "mimetype": "text/x-python",
   "name": "python",
   "nbconvert_exporter": "python",
   "pygments_lexer": "ipython3",
   "version": "3.9.12"
  }
 },
 "nbformat": 4,
 "nbformat_minor": 5
}
